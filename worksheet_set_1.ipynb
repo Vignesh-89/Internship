{
 "cells": [
  {
   "cell_type": "code",
   "execution_count": 4,
   "id": "f4ceaf90",
   "metadata": {},
   "outputs": [
    {
     "name": "stdout",
     "output_type": "stream",
     "text": [
      "Enter a number: 5\n",
      "The factorial of 5 is: 120\n"
     ]
    }
   ],
   "source": [
    "#11. Write a python program to find the factorial of a number.\n",
    "def factorial(n):\n",
    "    if n == 0 or n == 1:\n",
    "        return 1\n",
    "    else:\n",
    "        return n * factorial(n-1)\n",
    "\n",
    "# Input from the user\n",
    "number = int(input(\"Enter a number: \"))\n",
    "\n",
    "# Check if the number is non-negative\n",
    "if number < 0:\n",
    "    print(\"Factorial is not defined for negative numbers.\")\n",
    "else:\n",
    "    result = factorial(number)\n",
    "    print(f\"The factorial of {number} is: {result}\")"
   ]
  },
  {
   "cell_type": "code",
   "execution_count": 8,
   "id": "d6baea6e",
   "metadata": {},
   "outputs": [
    {
     "name": "stdout",
     "output_type": "stream",
     "text": [
      "Enter a number: 7\n",
      "7 is a prime number.\n"
     ]
    }
   ],
   "source": [
    "#12. Write a python program to find whether a number is prime or composite\n",
    "def is_prime(number):\n",
    "    if number <= 1:\n",
    "        return False\n",
    "    elif number == 2:\n",
    "        return True\n",
    "    elif number % 2 == 0:\n",
    "        return False\n",
    "    else:\n",
    "        # Check for factors up to the square root of the number\n",
    "        # The loop starts from 3 because we've already checked divisibility by 2 outside the loop.\n",
    "        # It iterates up to the square root of the given number. This is because if a number has a factor larger than its square root, it must also have a factor smaller than the square root, and we would have already checked for that.\n",
    "        # The loop increments by 2, so only odd numbers are checked. This is another optimization since even numbers greater than 2 are not prime.\n",
    "        # Inside the loop, it checks if the number is evenly divisible by the current value of i. If it is, the number is composite (not prime), and False is returned.\n",
    "        for i in range(3, int(number**0.5) + 1, 2):\n",
    "            if number % i == 0:\n",
    "                return False\n",
    "        return True\n",
    "\n",
    "# Input from the user\n",
    "num = int(input(\"Enter a number: \"))\n",
    "\n",
    "# Check and display the result\n",
    "if is_prime(num):\n",
    "    print(f\"{num} is a prime number.\")\n",
    "else:\n",
    "    print(f\"{num} is a composite number.\")"
   ]
  },
  {
   "cell_type": "code",
   "execution_count": 11,
   "id": "85079582",
   "metadata": {},
   "outputs": [
    {
     "name": "stdout",
     "output_type": "stream",
     "text": [
      "Enter a string: Mom\n",
      "Mom is a palindrome.\n"
     ]
    }
   ],
   "source": [
    "#13. Write a python program to check whether a given string is palindrome or not.\n",
    "def is_palindrome(input_string):\n",
    "    # Remove spaces and convert to lowercase for case-insensitive comparison\n",
    "    cleaned_string = ''.join(input_string.split()).lower()\n",
    "    \n",
    "    # Compare the original string with its reverse\n",
    "    return cleaned_string == cleaned_string[::-1]\n",
    "\n",
    "# Input from the user\n",
    "user_input = input(\"Enter a string: \")\n",
    "\n",
    "# Check and display the result\n",
    "if is_palindrome(user_input):\n",
    "    print(f\"{user_input} is a palindrome.\")\n",
    "else:\n",
    "    print(f\"{user_input} is not a palindrome.\")"
   ]
  },
  {
   "cell_type": "code",
   "execution_count": 12,
   "id": "aba6dede",
   "metadata": {},
   "outputs": [
    {
     "name": "stdout",
     "output_type": "stream",
     "text": [
      "Enter the length of the first side: 3\n",
      "Enter the length of the second side: 3\n",
      "The length of the third side (hypotenuse) is: 4.242640687119285\n"
     ]
    }
   ],
   "source": [
    "#14.Write a Python program to get the third side of right-angled triangle from two given sides.\n",
    "def find_third_side(side1, side2):\n",
    "    # Calculate the hypotenuse using the Pythagorean theorem\n",
    "    hypotenuse = (side1**2 + side2**2)**0.5\n",
    "    return hypotenuse\n",
    "\n",
    "# Input from the user for the two sides\n",
    "side1 = float(input(\"Enter the length of the first side: \"))\n",
    "side2 = float(input(\"Enter the length of the second side: \"))\n",
    "\n",
    "# Check if the input sides are valid (non-negative)\n",
    "if side1 < 0 or side2 < 0:\n",
    "    print(\"Invalid input. Side lengths must be non-negative.\")\n",
    "else:\n",
    "    # Calculate and display the length of the third side\n",
    "    third_side = find_third_side(side1, side2)\n",
    "    print(f\"The length of the third side (hypotenuse) is: {third_side}\")"
   ]
  },
  {
   "cell_type": "code",
   "execution_count": 15,
   "id": "26ca1bad",
   "metadata": {},
   "outputs": [
    {
     "name": "stdout",
     "output_type": "stream",
     "text": [
      "Enter a string: rat\n",
      "Character frequencies:\n",
      "r: 1\n",
      "a: 1\n",
      "t: 1\n"
     ]
    }
   ],
   "source": [
    "#15.Write a python program to print the frequency of each of the characters present in a given string.\n",
    "def character_frequency(input_string):\n",
    "    # Create an empty dictionary to store character frequencies\n",
    "    frequency_dict = {}\n",
    "\n",
    "    # Iterate through each character in the string\n",
    "    for char in input_string:\n",
    "        # Update the frequency in the dictionary\n",
    "        frequency_dict[char] = frequency_dict.get(char, 0) + 1\n",
    "\n",
    "    return frequency_dict\n",
    "\n",
    "# Input from the user\n",
    "user_input = input(\"Enter a string: \")\n",
    "\n",
    "# Calculate character frequencies\n",
    "frequency_result = character_frequency(user_input)\n",
    "\n",
    "# Display the frequency of each character\n",
    "print(\"Character frequencies:\")\n",
    "for char, frequency in frequency_result.items():\n",
    "    print(f\"{char}: {frequency}\")"
   ]
  },
  {
   "cell_type": "code",
   "execution_count": null,
   "id": "54ced9ce",
   "metadata": {},
   "outputs": [],
   "source": []
  }
 ],
 "metadata": {
  "kernelspec": {
   "display_name": "Python 3 (ipykernel)",
   "language": "python",
   "name": "python3"
  },
  "language_info": {
   "codemirror_mode": {
    "name": "ipython",
    "version": 3
   },
   "file_extension": ".py",
   "mimetype": "text/x-python",
   "name": "python",
   "nbconvert_exporter": "python",
   "pygments_lexer": "ipython3",
   "version": "3.10.9"
  }
 },
 "nbformat": 4,
 "nbformat_minor": 5
}
