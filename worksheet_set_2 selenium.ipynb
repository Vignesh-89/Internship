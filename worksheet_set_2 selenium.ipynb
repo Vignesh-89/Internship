{
 "cells": [
  {
   "cell_type": "code",
   "execution_count": 2,
   "id": "60468c48",
   "metadata": {},
   "outputs": [
    {
     "name": "stdout",
     "output_type": "stream",
     "text": [
      "Requirement already satisfied: selenium in c:\\users\\lenovo\\anaconda3\\lib\\site-packages (4.17.2)\n",
      "Requirement already satisfied: typing_extensions>=4.9.0 in c:\\users\\lenovo\\anaconda3\\lib\\site-packages (from selenium) (4.9.0)\n",
      "Requirement already satisfied: trio~=0.17 in c:\\users\\lenovo\\anaconda3\\lib\\site-packages (from selenium) (0.24.0)\n",
      "Requirement already satisfied: trio-websocket~=0.9 in c:\\users\\lenovo\\anaconda3\\lib\\site-packages (from selenium) (0.11.1)\n",
      "Requirement already satisfied: certifi>=2021.10.8 in c:\\users\\lenovo\\anaconda3\\lib\\site-packages (from selenium) (2022.12.7)\n",
      "Requirement already satisfied: urllib3[socks]<3,>=1.26 in c:\\users\\lenovo\\anaconda3\\lib\\site-packages (from selenium) (1.26.14)\n",
      "Requirement already satisfied: cffi>=1.14 in c:\\users\\lenovo\\anaconda3\\lib\\site-packages (from trio~=0.17->selenium) (1.15.1)\n",
      "Requirement already satisfied: sniffio>=1.3.0 in c:\\users\\lenovo\\anaconda3\\lib\\site-packages (from trio~=0.17->selenium) (1.3.0)\n",
      "Requirement already satisfied: idna in c:\\users\\lenovo\\anaconda3\\lib\\site-packages (from trio~=0.17->selenium) (3.4)\n",
      "Requirement already satisfied: exceptiongroup in c:\\users\\lenovo\\anaconda3\\lib\\site-packages (from trio~=0.17->selenium) (1.2.0)\n",
      "Requirement already satisfied: sortedcontainers in c:\\users\\lenovo\\anaconda3\\lib\\site-packages (from trio~=0.17->selenium) (2.4.0)\n",
      "Requirement already satisfied: attrs>=20.1.0 in c:\\users\\lenovo\\anaconda3\\lib\\site-packages (from trio~=0.17->selenium) (22.1.0)\n",
      "Requirement already satisfied: outcome in c:\\users\\lenovo\\anaconda3\\lib\\site-packages (from trio~=0.17->selenium) (1.3.0.post0)\n",
      "Requirement already satisfied: wsproto>=0.14 in c:\\users\\lenovo\\anaconda3\\lib\\site-packages (from trio-websocket~=0.9->selenium) (1.2.0)\n",
      "Requirement already satisfied: PySocks!=1.5.7,<2.0,>=1.5.6 in c:\\users\\lenovo\\anaconda3\\lib\\site-packages (from urllib3[socks]<3,>=1.26->selenium) (1.7.1)\n",
      "Requirement already satisfied: pycparser in c:\\users\\lenovo\\anaconda3\\lib\\site-packages (from cffi>=1.14->trio~=0.17->selenium) (2.21)\n",
      "Requirement already satisfied: h11<1,>=0.9.0 in c:\\users\\lenovo\\anaconda3\\lib\\site-packages (from wsproto>=0.14->trio-websocket~=0.9->selenium) (0.14.0)\n"
     ]
    }
   ],
   "source": [
    "!pip install selenium\n"
   ]
  },
  {
   "cell_type": "code",
   "execution_count": 75,
   "id": "a4693a62",
   "metadata": {},
   "outputs": [],
   "source": [
    "import selenium\n",
    "import pandas as pd\n",
    "from selenium import webdriver\n",
    "import warnings\n",
    "warnings.filterwarnings('ignore')\n",
    "from selenium.webdriver.common.keys import Keys\n",
    "from selenium.webdriver.common.by import By\n",
    "from selenium.webdriver.support.ui import WebDriverWait\n",
    "from selenium.webdriver.support import expected_conditions as EC\n",
    "import time"
   ]
  },
  {
   "cell_type": "code",
   "execution_count": 237,
   "id": "e57917e5",
   "metadata": {},
   "outputs": [],
   "source": [
    "driver = webdriver.Chrome()"
   ]
  },
  {
   "cell_type": "code",
   "execution_count": 238,
   "id": "44db0ef9",
   "metadata": {},
   "outputs": [],
   "source": [
    "driver.get(\"https://www.shine.com/job-search/\")"
   ]
  },
  {
   "cell_type": "code",
   "execution_count": 247,
   "id": "6abc4f01",
   "metadata": {},
   "outputs": [
    {
     "ename": "ElementClickInterceptedException",
     "evalue": "Message: element click intercepted: Element <i class=\"iconH-zoom-white\"></i> is not clickable at point (597, 70). Other element would receive the click: <input type=\"text\" id=\"id_exp\" name=\"id_exp\" autocomplete=\"off\" placeholder=\" \" class=\"form-control  \" value=\"\">\n  (Session info: chrome=116.0.5845.188)\nStacktrace:\n\tGetHandleVerifier [0x00007FF76E3A52A2+57122]\n\t(No symbol) [0x00007FF76E31EA92]\n\t(No symbol) [0x00007FF76E1EE3AB]\n\t(No symbol) [0x00007FF76E22D783]\n\t(No symbol) [0x00007FF76E22BD5F]\n\t(No symbol) [0x00007FF76E229DC8]\n\t(No symbol) [0x00007FF76E228FD5]\n\t(No symbol) [0x00007FF76E21F25F]\n\t(No symbol) [0x00007FF76E246FDA]\n\t(No symbol) [0x00007FF76E21EB76]\n\t(No symbol) [0x00007FF76E2471F0]\n\t(No symbol) [0x00007FF76E25EB82]\n\t(No symbol) [0x00007FF76E246DB3]\n\t(No symbol) [0x00007FF76E21D2B1]\n\t(No symbol) [0x00007FF76E21E494]\n\tGetHandleVerifier [0x00007FF76E64EF82+2849794]\n\tGetHandleVerifier [0x00007FF76E6A1D24+3189156]\n\tGetHandleVerifier [0x00007FF76E69ACAF+3160367]\n\tGetHandleVerifier [0x00007FF76E436D06+653702]\n\t(No symbol) [0x00007FF76E32A208]\n\t(No symbol) [0x00007FF76E3262C4]\n\t(No symbol) [0x00007FF76E3263F6]\n\t(No symbol) [0x00007FF76E3167A3]\n\tBaseThreadInitThunk [0x00007FFA8DD77344+20]\n\tRtlUserThreadStart [0x00007FFA8E7626B1+33]\n",
     "output_type": "error",
     "traceback": [
      "\u001b[1;31m---------------------------------------------------------------------------\u001b[0m",
      "\u001b[1;31mElementClickInterceptedException\u001b[0m          Traceback (most recent call last)",
      "Cell \u001b[1;32mIn[247], line 2\u001b[0m\n\u001b[0;32m      1\u001b[0m search\u001b[38;5;241m=\u001b[39mdriver\u001b[38;5;241m.\u001b[39mfind_element(By\u001b[38;5;241m.\u001b[39mCLASS_NAME,\u001b[38;5;124m\"\u001b[39m\u001b[38;5;124miconH-zoom-white\u001b[39m\u001b[38;5;124m\"\u001b[39m)\n\u001b[1;32m----> 2\u001b[0m \u001b[43msearch\u001b[49m\u001b[38;5;241;43m.\u001b[39;49m\u001b[43mclick\u001b[49m\u001b[43m(\u001b[49m\u001b[43m)\u001b[49m\n\u001b[0;32m      3\u001b[0m designation\u001b[38;5;241m=\u001b[39mdriver\u001b[38;5;241m.\u001b[39mfind_element(By\u001b[38;5;241m.\u001b[39mID,\u001b[38;5;124m\"\u001b[39m\u001b[38;5;124mid_q\u001b[39m\u001b[38;5;124m\"\u001b[39m)\n\u001b[0;32m      4\u001b[0m designation\u001b[38;5;241m.\u001b[39msend_keys(\u001b[38;5;124m'\u001b[39m\u001b[38;5;124mData Analyst\u001b[39m\u001b[38;5;124m'\u001b[39m)\n",
      "File \u001b[1;32m~\\anaconda3\\lib\\site-packages\\selenium\\webdriver\\remote\\webelement.py:94\u001b[0m, in \u001b[0;36mWebElement.click\u001b[1;34m(self)\u001b[0m\n\u001b[0;32m     92\u001b[0m \u001b[38;5;28;01mdef\u001b[39;00m \u001b[38;5;21mclick\u001b[39m(\u001b[38;5;28mself\u001b[39m) \u001b[38;5;241m-\u001b[39m\u001b[38;5;241m>\u001b[39m \u001b[38;5;28;01mNone\u001b[39;00m:\n\u001b[0;32m     93\u001b[0m     \u001b[38;5;124;03m\"\"\"Clicks the element.\"\"\"\u001b[39;00m\n\u001b[1;32m---> 94\u001b[0m     \u001b[38;5;28;43mself\u001b[39;49m\u001b[38;5;241;43m.\u001b[39;49m\u001b[43m_execute\u001b[49m\u001b[43m(\u001b[49m\u001b[43mCommand\u001b[49m\u001b[38;5;241;43m.\u001b[39;49m\u001b[43mCLICK_ELEMENT\u001b[49m\u001b[43m)\u001b[49m\n",
      "File \u001b[1;32m~\\anaconda3\\lib\\site-packages\\selenium\\webdriver\\remote\\webelement.py:395\u001b[0m, in \u001b[0;36mWebElement._execute\u001b[1;34m(self, command, params)\u001b[0m\n\u001b[0;32m    393\u001b[0m     params \u001b[38;5;241m=\u001b[39m {}\n\u001b[0;32m    394\u001b[0m params[\u001b[38;5;124m\"\u001b[39m\u001b[38;5;124mid\u001b[39m\u001b[38;5;124m\"\u001b[39m] \u001b[38;5;241m=\u001b[39m \u001b[38;5;28mself\u001b[39m\u001b[38;5;241m.\u001b[39m_id\n\u001b[1;32m--> 395\u001b[0m \u001b[38;5;28;01mreturn\u001b[39;00m \u001b[38;5;28;43mself\u001b[39;49m\u001b[38;5;241;43m.\u001b[39;49m\u001b[43m_parent\u001b[49m\u001b[38;5;241;43m.\u001b[39;49m\u001b[43mexecute\u001b[49m\u001b[43m(\u001b[49m\u001b[43mcommand\u001b[49m\u001b[43m,\u001b[49m\u001b[43m \u001b[49m\u001b[43mparams\u001b[49m\u001b[43m)\u001b[49m\n",
      "File \u001b[1;32m~\\anaconda3\\lib\\site-packages\\selenium\\webdriver\\remote\\webdriver.py:347\u001b[0m, in \u001b[0;36mWebDriver.execute\u001b[1;34m(self, driver_command, params)\u001b[0m\n\u001b[0;32m    345\u001b[0m response \u001b[38;5;241m=\u001b[39m \u001b[38;5;28mself\u001b[39m\u001b[38;5;241m.\u001b[39mcommand_executor\u001b[38;5;241m.\u001b[39mexecute(driver_command, params)\n\u001b[0;32m    346\u001b[0m \u001b[38;5;28;01mif\u001b[39;00m response:\n\u001b[1;32m--> 347\u001b[0m     \u001b[38;5;28;43mself\u001b[39;49m\u001b[38;5;241;43m.\u001b[39;49m\u001b[43merror_handler\u001b[49m\u001b[38;5;241;43m.\u001b[39;49m\u001b[43mcheck_response\u001b[49m\u001b[43m(\u001b[49m\u001b[43mresponse\u001b[49m\u001b[43m)\u001b[49m\n\u001b[0;32m    348\u001b[0m     response[\u001b[38;5;124m\"\u001b[39m\u001b[38;5;124mvalue\u001b[39m\u001b[38;5;124m\"\u001b[39m] \u001b[38;5;241m=\u001b[39m \u001b[38;5;28mself\u001b[39m\u001b[38;5;241m.\u001b[39m_unwrap_value(response\u001b[38;5;241m.\u001b[39mget(\u001b[38;5;124m\"\u001b[39m\u001b[38;5;124mvalue\u001b[39m\u001b[38;5;124m\"\u001b[39m, \u001b[38;5;28;01mNone\u001b[39;00m))\n\u001b[0;32m    349\u001b[0m     \u001b[38;5;28;01mreturn\u001b[39;00m response\n",
      "File \u001b[1;32m~\\anaconda3\\lib\\site-packages\\selenium\\webdriver\\remote\\errorhandler.py:229\u001b[0m, in \u001b[0;36mErrorHandler.check_response\u001b[1;34m(self, response)\u001b[0m\n\u001b[0;32m    227\u001b[0m         alert_text \u001b[38;5;241m=\u001b[39m value[\u001b[38;5;124m\"\u001b[39m\u001b[38;5;124malert\u001b[39m\u001b[38;5;124m\"\u001b[39m]\u001b[38;5;241m.\u001b[39mget(\u001b[38;5;124m\"\u001b[39m\u001b[38;5;124mtext\u001b[39m\u001b[38;5;124m\"\u001b[39m)\n\u001b[0;32m    228\u001b[0m     \u001b[38;5;28;01mraise\u001b[39;00m exception_class(message, screen, stacktrace, alert_text)  \u001b[38;5;66;03m# type: ignore[call-arg]  # mypy is not smart enough here\u001b[39;00m\n\u001b[1;32m--> 229\u001b[0m \u001b[38;5;28;01mraise\u001b[39;00m exception_class(message, screen, stacktrace)\n",
      "\u001b[1;31mElementClickInterceptedException\u001b[0m: Message: element click intercepted: Element <i class=\"iconH-zoom-white\"></i> is not clickable at point (597, 70). Other element would receive the click: <input type=\"text\" id=\"id_exp\" name=\"id_exp\" autocomplete=\"off\" placeholder=\" \" class=\"form-control  \" value=\"\">\n  (Session info: chrome=116.0.5845.188)\nStacktrace:\n\tGetHandleVerifier [0x00007FF76E3A52A2+57122]\n\t(No symbol) [0x00007FF76E31EA92]\n\t(No symbol) [0x00007FF76E1EE3AB]\n\t(No symbol) [0x00007FF76E22D783]\n\t(No symbol) [0x00007FF76E22BD5F]\n\t(No symbol) [0x00007FF76E229DC8]\n\t(No symbol) [0x00007FF76E228FD5]\n\t(No symbol) [0x00007FF76E21F25F]\n\t(No symbol) [0x00007FF76E246FDA]\n\t(No symbol) [0x00007FF76E21EB76]\n\t(No symbol) [0x00007FF76E2471F0]\n\t(No symbol) [0x00007FF76E25EB82]\n\t(No symbol) [0x00007FF76E246DB3]\n\t(No symbol) [0x00007FF76E21D2B1]\n\t(No symbol) [0x00007FF76E21E494]\n\tGetHandleVerifier [0x00007FF76E64EF82+2849794]\n\tGetHandleVerifier [0x00007FF76E6A1D24+3189156]\n\tGetHandleVerifier [0x00007FF76E69ACAF+3160367]\n\tGetHandleVerifier [0x00007FF76E436D06+653702]\n\t(No symbol) [0x00007FF76E32A208]\n\t(No symbol) [0x00007FF76E3262C4]\n\t(No symbol) [0x00007FF76E3263F6]\n\t(No symbol) [0x00007FF76E3167A3]\n\tBaseThreadInitThunk [0x00007FFA8DD77344+20]\n\tRtlUserThreadStart [0x00007FFA8E7626B1+33]\n"
     ]
    }
   ],
   "source": [
    "search=driver.find_element(By.CLASS_NAME,\"iconH-zoom-white\")\n",
    "search.click()\n",
    "designation=driver.find_element(By.ID,\"id_q\")\n",
    "designation.send_keys('Data Analyst')\n",
    "# designation=driver.find_element(By.CLASS_NAME,\"input\")\n",
    "# designation.send_keys('Data Analyst')\n",
    "# designation=driver.find_element(By.XPATH,\"/html/body/div/div[3]/div/div[2]/div[2]/div/form/div/div[1]/ul/li[1]/div/input\")\n",
    "# designation.send_keys('Data Analyst')\n",
    "#     search = driver.find_element_by_name(\"id_q\")\n",
    "#     search.clear()\n",
    "#     search.send_keys('Data Analyst')\n",
    "#    job_title_field = driver.find_element(By.NAME, \"id_q\")\n",
    "#     job_title_field.clear()\n",
    "#     job_title_field.send_keys(job_title)"
   ]
  },
  {
   "cell_type": "code",
   "execution_count": 248,
   "id": "dbc490cf",
   "metadata": {},
   "outputs": [],
   "source": [
    "location=driver.find_element(By.XPATH,\"/html/body/div/div[3]/div/div[2]/div[2]/div/form/div/div[1]/ul/li[2]/div/input\")\n",
    "location.send_keys('Bangalore')\n",
    "#   location_field = WebDriverWait(driver, 10).until(\n",
    "#         EC.presence_of_element_located((By.NAME, \"loc\"))\n",
    "#     )\n",
    "#     location_field.clear()\n",
    "#     location_field.send_keys(location)"
   ]
  },
  {
   "cell_type": "code",
   "execution_count": 246,
   "id": "6c1939f9",
   "metadata": {},
   "outputs": [],
   "source": [
    "search=driver.find_element(By.XPATH,\"/html/body/div/div[3]/div/div[2]/div[2]/div[1]/form/div/div[2]/div/button\")\n",
    "search.click()\n"
   ]
  },
  {
   "cell_type": "code",
   "execution_count": 157,
   "id": "dcef03b4",
   "metadata": {},
   "outputs": [],
   "source": [
    "job_title=[]\n",
    "job_location=[]\n",
    "company_name=[]\n",
    "experience_required=[]\n",
    "\n",
    "# title_tags=driver.find_element(By.XPATH,'//div[@class]/div/h2/a')\n",
    "# for i in title_tags:\n",
    "#    title=i.text.strip()\n",
    "#    job_title.append(title)\n",
    "\n",
    "#     job_containers = driver.find_element(By.CLASS_NAME,\"srm-head\")\n",
    "#     for container in job_containers[:num_jobs]:\n",
    "#         title = container.find_element_by_class_name(\"job_title\").text.strip()\n",
    "#         company_name = container.find_element_by_class_name(\"comp_name\").text.strip()\n",
    "#         location = container.find_element_by_class_name(\"loc\").text.strip()\n",
    "#         experience_required = container.find_element_by_class_name(\"exp\").text.strip()\n",
    "\n",
    "#         job_data.append({\n",
    "#             'Job Title': title,\n",
    "#             'Company Name': company_name,\n",
    "#             'Location': location,\n",
    "#             'Experience Required': experience_required\n",
    "#         })"
   ]
  },
  {
   "cell_type": "code",
   "execution_count": 235,
   "id": "f960f70d",
   "metadata": {},
   "outputs": [],
   "source": [
    "title_tags=driver.find_elements(By.XPATH,'//div[@class=\"parentClass position-relative\"]/div/div/div/h2/a')\n",
    "# job_title = title_tags\n",
    "# print(job_title)\n",
    "for i in title_tags:\n",
    "   title=i.text\n",
    "   job_title.append(title)"
   ]
  },
  {
   "cell_type": "code",
   "execution_count": 230,
   "id": "edfefdaa",
   "metadata": {},
   "outputs": [],
   "source": [
    "location_tags=driver.find_elements(By.XPATH,'//div[@class=\" jobCard_jobCard_lists_item__YxRkV jobCard_locationIcon__zrWt2\"]')\n",
    "# job_title = title_tags\n",
    "# print(job_title)\n",
    "for i in location_tags:\n",
    "   location=i.text.strip\n",
    "   job_location.append(location)"
   ]
  },
  {
   "cell_type": "code",
   "execution_count": 190,
   "id": "5bdb1b6b",
   "metadata": {},
   "outputs": [],
   "source": [
    "company_tags=driver.find_elements(By.XPATH,'//div[@class=\"jobCard_jobCard_cName__mYnow\"]/span')\n",
    "# job_title = title_tags\n",
    "# print(job_title)\n",
    "for i in company_tags:\n",
    "   company=i.text\n",
    "   company_name.append(company)"
   ]
  },
  {
   "cell_type": "code",
   "execution_count": 188,
   "id": "d97e01cc",
   "metadata": {},
   "outputs": [],
   "source": [
    "experience_tags=driver.find_elements(By.XPATH,'//div[@class=\" jobCard_jobCard_lists_item__YxRkV jobCard_jobIcon__3FB1t\"]')\n",
    "# job_title = title_tags\n",
    "# print(job_title)\n",
    "for i in experience_tags:\n",
    "   experience=i.text\n",
    "   experience_required.append(experience)"
   ]
  },
  {
   "cell_type": "code",
   "execution_count": 236,
   "id": "057708fb",
   "metadata": {},
   "outputs": [
    {
     "name": "stdout",
     "output_type": "stream",
     "text": [
      "[<selenium.webdriver.remote.webelement.WebElement (session=\"803ee4691ebd9480958e5d356793ddbc\", element=\"32E3F5A7EDB2169453AF878FC62F265F_element_462\")>, <selenium.webdriver.remote.webelement.WebElement (session=\"803ee4691ebd9480958e5d356793ddbc\", element=\"32E3F5A7EDB2169453AF878FC62F265F_element_641\")>, <selenium.webdriver.remote.webelement.WebElement (session=\"803ee4691ebd9480958e5d356793ddbc\", element=\"32E3F5A7EDB2169453AF878FC62F265F_element_643\")>, <selenium.webdriver.remote.webelement.WebElement (session=\"803ee4691ebd9480958e5d356793ddbc\", element=\"32E3F5A7EDB2169453AF878FC62F265F_element_673\")>, <selenium.webdriver.remote.webelement.WebElement (session=\"803ee4691ebd9480958e5d356793ddbc\", element=\"32E3F5A7EDB2169453AF878FC62F265F_element_683\")>, <selenium.webdriver.remote.webelement.WebElement (session=\"803ee4691ebd9480958e5d356793ddbc\", element=\"32E3F5A7EDB2169453AF878FC62F265F_element_684\")>, <selenium.webdriver.remote.webelement.WebElement (session=\"803ee4691ebd9480958e5d356793ddbc\", element=\"32E3F5A7EDB2169453AF878FC62F265F_element_685\")>, <selenium.webdriver.remote.webelement.WebElement (session=\"803ee4691ebd9480958e5d356793ddbc\", element=\"32E3F5A7EDB2169453AF878FC62F265F_element_686\")>, <selenium.webdriver.remote.webelement.WebElement (session=\"803ee4691ebd9480958e5d356793ddbc\", element=\"32E3F5A7EDB2169453AF878FC62F265F_element_687\")>, <selenium.webdriver.remote.webelement.WebElement (session=\"803ee4691ebd9480958e5d356793ddbc\", element=\"32E3F5A7EDB2169453AF878FC62F265F_element_688\")>, <selenium.webdriver.remote.webelement.WebElement (session=\"803ee4691ebd9480958e5d356793ddbc\", element=\"32E3F5A7EDB2169453AF878FC62F265F_element_689\")>, <selenium.webdriver.remote.webelement.WebElement (session=\"803ee4691ebd9480958e5d356793ddbc\", element=\"32E3F5A7EDB2169453AF878FC62F265F_element_690\")>, <selenium.webdriver.remote.webelement.WebElement (session=\"803ee4691ebd9480958e5d356793ddbc\", element=\"32E3F5A7EDB2169453AF878FC62F265F_element_691\")>, <selenium.webdriver.remote.webelement.WebElement (session=\"803ee4691ebd9480958e5d356793ddbc\", element=\"32E3F5A7EDB2169453AF878FC62F265F_element_692\")>, <selenium.webdriver.remote.webelement.WebElement (session=\"803ee4691ebd9480958e5d356793ddbc\", element=\"32E3F5A7EDB2169453AF878FC62F265F_element_693\")>, <selenium.webdriver.remote.webelement.WebElement (session=\"803ee4691ebd9480958e5d356793ddbc\", element=\"32E3F5A7EDB2169453AF878FC62F265F_element_694\")>, <selenium.webdriver.remote.webelement.WebElement (session=\"803ee4691ebd9480958e5d356793ddbc\", element=\"32E3F5A7EDB2169453AF878FC62F265F_element_695\")>, <selenium.webdriver.remote.webelement.WebElement (session=\"803ee4691ebd9480958e5d356793ddbc\", element=\"32E3F5A7EDB2169453AF878FC62F265F_element_696\")>, <selenium.webdriver.remote.webelement.WebElement (session=\"803ee4691ebd9480958e5d356793ddbc\", element=\"32E3F5A7EDB2169453AF878FC62F265F_element_697\")>, <selenium.webdriver.remote.webelement.WebElement (session=\"803ee4691ebd9480958e5d356793ddbc\", element=\"32E3F5A7EDB2169453AF878FC62F265F_element_698\")>, 'Lead Data Analyst', 'Data Analyst', 'Vacancy For Data Analyst', 'Clinical Data Analyst', 'Data Modeler data', 'Data Modeller', 'Data Modeler Bangalore', 'Data Modeler', 'Clinical Data Analyst', 'Data Analyst Hiring Fresher and Experience', 'Data Analyst Hiring Fresher and Experience', 'Data Engineer-OBIEE', 'Data Analyst Recruitment', 'Data Modeler', 'Data typing/computer operator/work from home/part-time', 'Clinical Data Analyst', 'Data Modeler Bangalore', 'Vacancy For Data Scientist Fresher and Experience', 'Analytics Manager', 'Data Intelligence Analyst', 'Lead Data Analyst', 'Data Analyst', 'Vacancy For Data Analyst', 'Clinical Data Analyst', 'Data Modeler data', 'Data Modeller', 'Data Modeler Bangalore', 'Data Modeler', 'Clinical Data Analyst', 'Data Analyst Hiring Fresher and Experience', 'Data Analyst Hiring Fresher and Experience', 'Data Engineer-OBIEE', 'Data Analyst Recruitment', 'Data Modeler', 'Data typing/computer operator/work from home/part-time', 'Clinical Data Analyst', 'Data Modeler Bangalore', 'Vacancy For Data Scientist Fresher and Experience', 'Analytics Manager', 'Data Intelligence Analyst', 'Lead Data Analyst', 'Data Analyst', 'Vacancy For Data Analyst', 'Clinical Data Analyst', 'Data Modeler data', 'Data Modeller', 'Data Modeler Bangalore', 'Data Modeler', 'Clinical Data Analyst', 'Data Analyst Hiring Fresher and Experience', 'Data Analyst Hiring Fresher and Experience', 'Data Engineer-OBIEE', 'Data Analyst Recruitment', 'Data Modeler', 'Data typing/computer operator/work from home/part-time', 'Clinical Data Analyst', 'Data Modeler Bangalore', 'Vacancy For Data Scientist Fresher and Experience', 'Analytics Manager', 'Data Intelligence Analyst', 'Lead Data Analyst', 'Data Analyst', 'Vacancy For Data Analyst', 'Clinical Data Analyst', 'Data Modeler data', 'Data Modeller', 'Data Modeler Bangalore', 'Data Modeler', 'Clinical Data Analyst', 'Data Analyst Hiring Fresher and Experience', 'Data Analyst Hiring Fresher and Experience', 'Data Engineer-OBIEE', 'Data Analyst Recruitment', 'Data Modeler', 'Data typing/computer operator/work from home/part-time', 'Clinical Data Analyst', 'Data Modeler Bangalore', 'Vacancy For Data Scientist Fresher and Experience', 'Analytics Manager', 'Data Intelligence Analyst', 'Lead Data Analyst', 'Data Analyst', 'Vacancy For Data Analyst', 'Clinical Data Analyst', 'Data Modeler data', 'Data Modeller', 'Data Modeler Bangalore', 'Data Modeler', 'Clinical Data Analyst', 'Data Analyst Hiring Fresher and Experience', 'Data Analyst Hiring Fresher and Experience', 'Data Engineer-OBIEE', 'Data Analyst Recruitment', 'Data Modeler', 'Data typing/computer operator/work from home/part-time', 'Clinical Data Analyst', 'Data Modeler Bangalore', 'Vacancy For Data Scientist Fresher and Experience', 'Analytics Manager', 'Data Intelligence Analyst', 'Lead Data Analyst', 'Data Analyst', 'Vacancy For Data Analyst', 'Clinical Data Analyst', 'Data Modeler data', 'Data Modeller', 'Data Modeler Bangalore', 'Data Modeler', 'Clinical Data Analyst', 'Data Analyst Hiring Fresher and Experience', 'Data Analyst Hiring Fresher and Experience', 'Data Engineer-OBIEE', 'Data Analyst Recruitment', 'Data Modeler', 'Data typing/computer operator/work from home/part-time', 'Clinical Data Analyst', 'Data Modeler Bangalore', 'Vacancy For Data Scientist Fresher and Experience', 'Analytics Manager', 'Data Intelligence Analyst', 'Lead Data Analyst', 'Data Analyst', 'Vacancy For Data Analyst', 'Clinical Data Analyst', 'Data Modeler data', 'Data Modeller', 'Data Modeler Bangalore', 'Data Modeler', 'Clinical Data Analyst', 'Data Analyst Hiring Fresher and Experience', 'Data Analyst Hiring Fresher and Experience', 'Data Engineer-OBIEE', 'Data Analyst Recruitment', 'Data Modeler', 'Data typing/computer operator/work from home/part-time', 'Clinical Data Analyst', 'Data Modeler Bangalore', 'Vacancy For Data Scientist Fresher and Experience', 'Analytics Manager', 'Data Intelligence Analyst', 'Lead Data Analyst', 'Data Analyst', 'Vacancy For Data Analyst', 'Clinical Data Analyst', 'Data Modeler data', 'Data Modeller', 'Data Modeler Bangalore', 'Data Modeler', 'Clinical Data Analyst', 'Data Analyst Hiring Fresher and Experience', 'Data Analyst Hiring Fresher and Experience', 'Data Engineer-OBIEE', 'Data Analyst Recruitment', 'Data Modeler', 'Data typing/computer operator/work from home/part-time', 'Clinical Data Analyst', 'Data Modeler Bangalore', 'Vacancy For Data Scientist Fresher and Experience', 'Analytics Manager', 'Data Intelligence Analyst', 'Lead Data Analyst', 'Data Analyst', 'Vacancy For Data Analyst', 'Clinical Data Analyst', 'Data Modeler data', 'Data Modeller', 'Data Modeler Bangalore', 'Data Modeler', 'Clinical Data Analyst', 'Data Analyst Hiring Fresher and Experience', 'Data Analyst Hiring Fresher and Experience', 'Data Engineer-OBIEE', 'Data Analyst Recruitment', 'Data Modeler', 'Data typing/computer operator/work from home/part-time', 'Clinical Data Analyst', 'Data Modeler Bangalore', 'Vacancy For Data Scientist Fresher and Experience', 'Analytics Manager', 'Data Intelligence Analyst', 'Lead Data Analyst', 'Data Analyst', 'Vacancy For Data Analyst', 'Clinical Data Analyst', 'Data Modeler data', 'Data Modeller', 'Data Modeler Bangalore', 'Data Modeler', 'Clinical Data Analyst', 'Data Analyst Hiring Fresher and Experience', 'Data Analyst Hiring Fresher and Experience', 'Data Engineer-OBIEE', 'Data Analyst Recruitment', 'Data Modeler', 'Data typing/computer operator/work from home/part-time', 'Clinical Data Analyst', 'Data Modeler Bangalore', 'Vacancy For Data Scientist Fresher and Experience', 'Analytics Manager', 'Data Intelligence Analyst', 'Lead Data Analyst', 'Data Analyst', 'Vacancy For Data Analyst', 'Clinical Data Analyst', 'Data Modeler data', 'Data Modeller', 'Data Modeler Bangalore', 'Data Modeler', 'Clinical Data Analyst', 'Data Analyst Hiring Fresher and Experience', 'Data Analyst Hiring Fresher and Experience', 'Data Engineer-OBIEE', 'Data Analyst Recruitment', 'Data Modeler', 'Data typing/computer operator/work from home/part-time', 'Clinical Data Analyst', 'Data Modeler Bangalore', 'Vacancy For Data Scientist Fresher and Experience', 'Analytics Manager', 'Data Intelligence Analyst', 'Lead Data Analyst', 'Data Analyst', 'Vacancy For Data Analyst', 'Clinical Data Analyst', 'Data Modeler data', 'Data Modeller', 'Data Modeler Bangalore', 'Data Modeler', 'Clinical Data Analyst', 'Data Analyst Hiring Fresher and Experience', 'Data Analyst Hiring Fresher and Experience', 'Data Engineer-OBIEE', 'Data Analyst Recruitment', 'Data Modeler', 'Data typing/computer operator/work from home/part-time', 'Clinical Data Analyst', 'Data Modeler Bangalore', 'Vacancy For Data Scientist Fresher and Experience', 'Analytics Manager', 'Data Intelligence Analyst']\n"
     ]
    }
   ],
   "source": [
    "# df=pd.DataFrame({ 'JOB TITLE':job_title, 'JOB LOCATION':job_location,'COMPANY':company_name, 'EXPERIENCE REQUIRED':experience_required})\n",
    "# df\n",
    "print(job_title)"
   ]
  },
  {
   "cell_type": "code",
   "execution_count": null,
   "id": "d4fc65fc",
   "metadata": {},
   "outputs": [],
   "source": []
  }
 ],
 "metadata": {
  "kernelspec": {
   "display_name": "Python 3 (ipykernel)",
   "language": "python",
   "name": "python3"
  },
  "language_info": {
   "codemirror_mode": {
    "name": "ipython",
    "version": 3
   },
   "file_extension": ".py",
   "mimetype": "text/x-python",
   "name": "python",
   "nbconvert_exporter": "python",
   "pygments_lexer": "ipython3",
   "version": "3.10.9"
  }
 },
 "nbformat": 4,
 "nbformat_minor": 5
}
