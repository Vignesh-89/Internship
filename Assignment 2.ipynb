{
 "cells": [
  {
   "cell_type": "code",
   "execution_count": 3,
   "id": "5395cd38",
   "metadata": {},
   "outputs": [
    {
     "name": "stdout",
     "output_type": "stream",
     "text": [
      "True\n",
      "False\n"
     ]
    }
   ],
   "source": [
    "#Question 1- Write a RegEx pattern in python program to check that a string contains only a certain set of characters (in this case a-z, A-Z and 0-9).\n",
    "import re\n",
    "def Is_Character(string):# create function with arguments\n",
    "    charRe = re.compile(r'[^a-zA-Z0-9]')# create pattern to check the string that contain's A-B,a-b to 0-9.\n",
    "    string = charRe.search(string)# To search the pattern with the input string .\n",
    "    return not bool(string)# return boolean value, if the charcater matched with pattern return true else false.\n",
    "\n",
    "print(Is_Character(\"ABCDEFabcdef123450\"))# To passing the input value to the Is_Character function and print o/p value.   \n",
    "print(Is_Character(\"*&%@#!}{\"))# To passing the input value to the Is_Character function and print o/p value."
   ]
  },
  {
   "cell_type": "code",
   "execution_count": 5,
   "id": "76c87945",
   "metadata": {},
   "outputs": [
    {
     "name": "stdout",
     "output_type": "stream",
     "text": [
      "Not matched!\n",
      "Not matched!\n",
      "Found a match!\n",
      "Found a match!\n",
      "Found a match!\n"
     ]
    }
   ],
   "source": [
    "#Question 2- Write a RegEx pattern that matches a string that has an a followed by zero or more b's\n",
    "def Is_Character(text):# create function with arguments\n",
    "        patterns = '^a(b*)$'# create pattern to check the string that has an a followed by zero or more b's\n",
    "        if re.search(patterns,  text):# To search the pattern with the input string .\n",
    "                return 'Found a match!'# if the input value match with the pattern\n",
    "        else:\n",
    "                return('Not matched!')# if the input value not match with the pattern\n",
    "print(Is_Character(\"ac\"))# To passing the input value to the Is_Character function and print o/p value.\n",
    "print(Is_Character(\"abc\"))# To passing the input value to the Is_Character function and print o/p value.\n",
    "print(Is_Character(\"a\"))# To passing the input value to the Is_Character function and print o/p value.\n",
    "print(Is_Character(\"ab\"))# To passing the input value to the Is_Character function and print o/p value.\n",
    "print(Is_Character(\"abb\"))# To passing the input value to the Is_Character function and print o/p value.\n",
    "\n"
   ]
  },
  {
   "cell_type": "code",
   "execution_count": 7,
   "id": "03a192ff",
   "metadata": {},
   "outputs": [
    {
     "name": "stdout",
     "output_type": "stream",
     "text": [
      "Found a match!\n",
      "Found a match!\n"
     ]
    }
   ],
   "source": [
    "#Question 3-  Write a RegEx pattern that matches a string that has an a followed by one or more b's\n",
    "def Is_Character(text):# create function with arguments\n",
    "        patterns = 'ab+?'# create pattern to check the string that has an a followed by one or more b's\n",
    "        if re.search(patterns,  text):# To search the pattern with the input string .\n",
    "                return 'Found a match!'# if the input value match with the pattern\n",
    "        else:\n",
    "                return('Not matched!')# if the input value not match with the pattern\n",
    "\n",
    "print(Is_Character(\"ab\"))# To passing the input value to the Is_Character function and print o/p value.\n",
    "print(Is_Character(\"abbbb\"))# To passing the input value to the Is_Character function and print o/p value."
   ]
  },
  {
   "cell_type": "code",
   "execution_count": 8,
   "id": "17c0be20",
   "metadata": {},
   "outputs": [
    {
     "name": "stdout",
     "output_type": "stream",
     "text": [
      "Not matched!\n",
      "Found a match!\n",
      "Found a match!\n",
      "Found a match!\n"
     ]
    }
   ],
   "source": [
    "#Question 4- Write a RegEx pattern that matches a string that has an a followed by zero or one 'b'.\n",
    "def Is_Character(text):# create function with arguments\n",
    "        patterns = 'ab?'# create pattern to check the string that has an a followed by zero or one 'b'.\n",
    "        if re.search(patterns,  text):# To search the pattern with the input string .\n",
    "                return 'Found a match!'# if the input value match with the pattern\n",
    "        else:\n",
    "                return('Not matched!')# if the input value not match with the pattern\n",
    "\n",
    "print(Is_Character(\" \"))# To passing the input value to the Is_Character function and print o/p value.\n",
    "print(Is_Character(\"abc\"))# To passing the input value to the Is_Character function and print o/p value.\n",
    "print(Is_Character(\"abbc\"))# To passing the input value to the Is_Character function and print o/p value.\n",
    "print(Is_Character(\"aabbc\"))# To passing the input value to the Is_Character function and print o/p value."
   ]
  },
  {
   "cell_type": "code",
   "execution_count": 9,
   "id": "be4bd4a8",
   "metadata": {},
   "outputs": [
    {
     "name": "stdout",
     "output_type": "stream",
     "text": [
      "Found a match!\n",
      "Found a match!\n"
     ]
    }
   ],
   "source": [
    "#Question 5- Write a RegEx pattern in python program that matches a string that has an a followed by three 'b'.\n",
    "def Is_Character(text):# create function with arguments\n",
    "        patterns = 'ab{3}?'# create pattern to check the string that has an a followed by three 'b'.\n",
    "        if re.search(patterns,  text):# To search the pattern with the input string .\n",
    "                return 'Found a match!'# if the input value match with the pattern\n",
    "        else:\n",
    "                return('Not matched!')# if the input value not match with the pattern\n",
    "\n",
    "print(Is_Character(\"abbb\"))# To passing the input value to the Is_Character function and print o/p value.\n",
    "print(Is_Character(\"aabbbbbc\"))# To passing the input value to the Is_Character function and print o/p value."
   ]
  },
  {
   "cell_type": "code",
   "execution_count": 11,
   "id": "44766b3b",
   "metadata": {},
   "outputs": [
    {
     "name": "stdout",
     "output_type": "stream",
     "text": [
      "Not matched!\n",
      "Found a match!\n"
     ]
    }
   ],
   "source": [
    "#Question 6- Write a RegEx pattern in python programthat matches a string that has an a followed by two to three 'b'.\n",
    "def Is_Character(text):# create function with arguments\n",
    "        patterns = 'ab{2,3}'# create pattern to check the string that has an a followed by two to three 'b'.\n",
    "        if re.search(patterns,  text):# To search the pattern with the input string .\n",
    "                return 'Found a match!'# if the input value match with the pattern\n",
    "        else:\n",
    "                return('Not matched!')# if the input value not match with the pattern\n",
    "print(Is_Character(\"ab\"))# To passing the input value to the Is_Character function and print o/p value.\n",
    "print(Is_Character(\"aabbbbbc\"))# To passing the input value to the Is_Character function and print o/p value."
   ]
  },
  {
   "cell_type": "code",
   "execution_count": 12,
   "id": "8b2e2d8d",
   "metadata": {},
   "outputs": [
    {
     "name": "stdout",
     "output_type": "stream",
     "text": [
      "Found a match!\n",
      "Not matched!\n",
      "Found a match!\n"
     ]
    }
   ],
   "source": [
    "#Question 7- Write a Python program that matches a string that has an 'a' followed by anything, ending in 'b'.\n",
    "def Is_Character(text):# create function with arguments\n",
    "        patterns = 'a.*?b$'# create pattern to check the string that has an 'a' followed by anything, ending in 'b'.\n",
    "        if re.search(patterns,  text):# To search the pattern with the input string .\n",
    "                return 'Found a match!'# if the input value match with the pattern\n",
    "        else:\n",
    "                return('Not matched!')# if the input value not match with the pattern\n",
    "\n",
    "print(Is_Character(\"stringaabbbbdb\"))# To passing the input value to the Is_Character function and print o/p value.\n",
    "print(Is_Character(\"aabAbbbc\"))# To passing the input value to the Is_Character function and print o/p value.\n",
    "print(Is_Character(\"accddbbjjjb\"))# To passing the input value to the Is_Character function and print o/p value."
   ]
  },
  {
   "cell_type": "code",
   "execution_count": 13,
   "id": "3e2c64ac",
   "metadata": {},
   "outputs": [
    {
     "name": "stdout",
     "output_type": "stream",
     "text": [
      "Found a match!\n",
      "Not matched!\n"
     ]
    }
   ],
   "source": [
    "#Question 8- Write a RegEx pattern in python program that matches a word at the beginning of a string.\n",
    "def Is_Character(text):# create function with arguments\n",
    "        patterns = '^\\w+'# create pattern to set word at the beginning of a string.\n",
    "        if re.search(patterns,  text):# To search the pattern with the input string .\n",
    "                return 'Found a match!'# if the input value match with the pattern\n",
    "        else:\n",
    "                return('Not matched!')# if the input value not match with the pattern\n",
    "\n",
    "print(Is_Character(\"Hard Work never fails.\"))# To passing the input value to the Is_Character function and print o/p value.\n",
    "print(Is_Character(\" Hard Work never fails.\"))# To passing the input value to the Is_Character function and print o/p value."
   ]
  },
  {
   "cell_type": "code",
   "execution_count": 14,
   "id": "71863136",
   "metadata": {},
   "outputs": [
    {
     "name": "stdout",
     "output_type": "stream",
     "text": [
      "Found a match!\n",
      "Not matched!\n",
      "Not matched!\n"
     ]
    }
   ],
   "source": [
    "#Question 9- Write a RegEx pattern in python program that matches a word at the end of a string.\n",
    "def Is_Character(text):# create function with arguments\n",
    "        patterns = '\\w+\\S*$'# create pattern to set word at the end of a string.\n",
    "        if re.search(patterns,  text):# To search the pattern with the input string .\n",
    "                return 'Found a match!'# if the input value match with the pattern\n",
    "        else:\n",
    "                return('Not matched!')# if the input value not match with the pattern\n",
    "\n",
    "print(Is_Character(\"Hard Work never fails.\"))# To passing the input value to the Is_Character function and print o/p value.\n",
    "print(Is_Character(\"Hard Work never fails. \"))# To passing the input value to the Is_Character function and print o/p value.\n",
    "print(Is_Character(\"Hard Work never fails  \"))# To passing the input value to the Is_Character function and print o/p value."
   ]
  },
  {
   "cell_type": "code",
   "execution_count": 15,
   "id": "7eb29081",
   "metadata": {},
   "outputs": [
    {
     "name": "stdout",
     "output_type": "stream",
     "text": [
      "['journey', 'thousand', 'miles', 'begins', 'with', 'single', 'step']\n"
     ]
    }
   ],
   "source": [
    "#Question 10- Write a RegEx pattern in python program to find all words that are 4 digits long in a string.\n",
    "text = 'A journey of a thousand miles begins with a single step.'# Assign the value to the variable\n",
    "print(re.findall(r\"\\b\\w{4,}\\b\", text))# find the 4 digits string in the text input and print o/p value."
   ]
  },
  {
   "cell_type": "code",
   "execution_count": null,
   "id": "502b889e",
   "metadata": {},
   "outputs": [],
   "source": []
  }
 ],
 "metadata": {
  "kernelspec": {
   "display_name": "Python 3 (ipykernel)",
   "language": "python",
   "name": "python3"
  },
  "language_info": {
   "codemirror_mode": {
    "name": "ipython",
    "version": 3
   },
   "file_extension": ".py",
   "mimetype": "text/x-python",
   "name": "python",
   "nbconvert_exporter": "python",
   "pygments_lexer": "ipython3",
   "version": "3.10.9"
  }
 },
 "nbformat": 4,
 "nbformat_minor": 5
}
